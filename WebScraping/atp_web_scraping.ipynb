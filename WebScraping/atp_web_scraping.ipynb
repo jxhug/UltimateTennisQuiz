{
 "cells": [
  {
   "cell_type": "markdown",
   "id": "684d3fbd",
   "metadata": {},
   "source": [
    "## Notebook for scraping player data from the ATP Tour website"
   ]
  },
  {
   "cell_type": "code",
   "execution_count": 51,
   "id": "0431888d",
   "metadata": {},
   "outputs": [],
   "source": [
    "from pathlib import Path\n",
    "\n",
    "import requests\n",
    "from bs4 import BeautifulSoup"
   ]
  },
  {
   "cell_type": "markdown",
   "id": "f2a200a2",
   "metadata": {},
   "source": [
    "### Specify the output directory where we will write the data to"
   ]
  },
  {
   "cell_type": "code",
   "execution_count": 53,
   "id": "b1640ea3",
   "metadata": {},
   "outputs": [],
   "source": [
    "output_dir = Path('/Users/nph/Desktop/atp_player_profile_data')\n",
    "output_dir.mkdir(exist_ok=True)"
   ]
  },
  {
   "cell_type": "markdown",
   "id": "ca8c8c2c",
   "metadata": {},
   "source": [
    "### First we get the singles rankings page for the top 200 players"
   ]
  },
  {
   "cell_type": "code",
   "execution_count": 54,
   "id": "7780e432",
   "metadata": {},
   "outputs": [],
   "source": [
    "rankings_url = 'https://www.atptour.com/en/rankings/singles?rankRange=1-200'\n",
    "rankings_page = requests.get(rankings_url)"
   ]
  },
  {
   "cell_type": "markdown",
   "id": "e11597b3",
   "metadata": {},
   "source": [
    "### Extract the link to each player's profile page and store in a dict"
   ]
  },
  {
   "cell_type": "code",
   "execution_count": 58,
   "id": "a0d792c6",
   "metadata": {},
   "outputs": [],
   "source": [
    "player_profile_paths = {}\n",
    "soup = BeautifulSoup(rankings_page.content, \"html.parser\")\n",
    "for player_cell in soup.find_all('span', class_='player-cell-wrapper'):\n",
    "    name = player_cell.a['ga-label']\n",
    "    href = player_cell.a['href']\n",
    "    player_profile_paths[name] = href.replace('/overview', '')  # store the base url for the player"
   ]
  },
  {
   "cell_type": "markdown",
   "id": "cc292b71",
   "metadata": {},
   "source": [
    "### Check the dict has the right size and show an example value"
   ]
  },
  {
   "cell_type": "code",
   "execution_count": 59,
   "id": "722686b9",
   "metadata": {},
   "outputs": [
    {
     "data": {
      "text/plain": [
       "200"
      ]
     },
     "execution_count": 59,
     "metadata": {},
     "output_type": "execute_result"
    }
   ],
   "source": [
    "len(player_profile_paths)"
   ]
  },
  {
   "cell_type": "code",
   "execution_count": 60,
   "id": "f40264bf",
   "metadata": {},
   "outputs": [
    {
     "data": {
      "text/plain": [
       "'/en/players/novak-djokovic/d643'"
      ]
     },
     "execution_count": 60,
     "metadata": {},
     "output_type": "execute_result"
    }
   ],
   "source": [
    "player_profile_paths['Novak Djokovic']"
   ]
  },
  {
   "cell_type": "markdown",
   "id": "6d084067",
   "metadata": {},
   "source": [
    "### Helper function to parse the Beautiful Soup tags for the player bio pages"
   ]
  },
  {
   "cell_type": "code",
   "execution_count": 61,
   "id": "301effa8",
   "metadata": {},
   "outputs": [],
   "source": [
    "def parse_bio_tag(tag):\n",
    "    # This works for the career and personal pages but not for the\n",
    "    # Year by Year profile page (id=\"playerBioCareerHighlights\")\n",
    "    if tag:\n",
    "        text = (tag.text.replace('<p>', '').replace('</p>', '')\n",
    "                        .replace('<br />', '').replace('\\r', '')\n",
    "                        .replace('&nbsp', ' ').replace('&#39;', \"'\").replace('&rsquo;', \"'\"))\n",
    "        lines = [line for line in text.split('\\n') if line.startswith('&gt;')]\n",
    "        lines = [line.lstrip('&gt; ') for line in lines]\n",
    "        return '\\n'.join(lines)\n",
    "    else:\n",
    "        return ''"
   ]
  },
  {
   "cell_type": "markdown",
   "id": "f7deb2f9",
   "metadata": {},
   "source": [
    "### Extract the player data and write to files"
   ]
  },
  {
   "cell_type": "code",
   "execution_count": 68,
   "id": "dfb0249c",
   "metadata": {},
   "outputs": [
    {
     "name": "stdout",
     "output_type": "stream",
     "text": [
      "Extracting data for Novak Djokovic\n",
      "Extracting data for Daniil Medvedev\n",
      "Extracting data for Alexander Zverev\n",
      "Extracting data for Rafael Nadal\n",
      "Extracting data for Stefanos Tsitsipas\n",
      "Extracting data for Carlos Alcaraz\n",
      "Extracting data for Andrey Rublev\n",
      "Extracting data for Matteo Berrettini\n",
      "Extracting data for Felix Auger-Aliassime\n",
      "Extracting data for Casper Ruud\n",
      "Extracting data for Cameron Norrie\n",
      "Extracting data for Hubert Hurkacz\n",
      "Extracting data for Jannik Sinner\n",
      "Extracting data for Taylor Fritz\n",
      "Extracting data for Diego Schwartzman\n",
      "Extracting data for Denis Shapovalov\n",
      "Extracting data for Reilly Opelka\n",
      "Extracting data for Pablo Carreno Busta\n",
      "Extracting data for Roberto Bautista Agut\n",
      "Extracting data for Grigor Dimitrov\n",
      "Extracting data for Gael Monfils\n",
      "Extracting data for Alex de Minaur\n",
      "Extracting data for Marin Cilic\n",
      "Extracting data for Karen Khachanov\n",
      "Extracting data for Nikoloz Basilashvili\n",
      "Extracting data for Frances Tiafoe\n",
      "Extracting data for John Isner\n",
      "Extracting data for Lorenzo Sonego\n",
      "Extracting data for Alejandro Davidovich Fokina\n",
      "Extracting data for Sebastian Korda\n",
      "Extracting data for Miomir Kecmanovic\n",
      "Extracting data for Botic van de Zandschulp\n",
      "Extracting data for Daniel Evans\n",
      "Extracting data for Tommy Paul\n",
      "Extracting data for Aslan Karatsev\n",
      "Extracting data for Lloyd Harris\n",
      "Extracting data for Sebastian Baez\n",
      "Extracting data for Jenson Brooksby\n",
      "Extracting data for Federico Delbonis\n",
      "Extracting data for Pedro Martinez\n",
      "Extracting data for Alexander Bublik\n",
      "Extracting data for Holger Rune\n",
      "Extracting data for Albert Ramos-Vinolas\n",
      "Extracting data for Ugo Humbert\n",
      "Extracting data for Cristian Garin\n",
      "Extracting data for Roger Federer\n",
      "Extracting data for Alex Molcan\n",
      "Extracting data for David Goffin\n",
      "Extracting data for Francisco Cerundolo\n",
      "Extracting data for Ilya Ivashka\n",
      "Extracting data for Lorenzo Musetti\n",
      "Extracting data for Marton Fucsovics\n",
      "Extracting data for Mackenzie McDonald\n",
      "Extracting data for Filip Krajinovic\n",
      "Extracting data for Federico Coria\n",
      "Extracting data for Benjamin Bonzi\n",
      "Extracting data for Fabio Fognini\n",
      "Extracting data for Oscar Otte\n",
      "Extracting data for Laslo Djere\n",
      "Extracting data for Marcos Giron\n",
      "Extracting data for Emil Ruusuvuori\n",
      "Extracting data for Maxime Cressy\n",
      "Extracting data for Arthur Rinderknech\n",
      "Extracting data for Dusan Lajovic\n",
      "Extracting data for Benoit Paire\n",
      "Extracting data for Daniel Altmaier\n",
      "Extracting data for Tallon Griekspoor\n",
      "Extracting data for Hugo Gaston\n",
      "Extracting data for Andy Murray\n",
      "Extracting data for James Duckworth\n",
      "Extracting data for Adrian Mannarino\n",
      "Extracting data for Soonwoo Kwon\n",
      "Extracting data for Jiri Vesely\n",
      "Extracting data for Kei Nishikori\n",
      "Extracting data for Dominik Koepfer\n",
      "Extracting data for Brandon Nakashima\n",
      "Extracting data for Richard Gasquet\n",
      "Extracting data for Nick Kyrgios\n",
      "Extracting data for Jiri Lehecka\n",
      "Extracting data for Kamil Majchrzak\n",
      "Extracting data for Hugo Dellien\n",
      "Extracting data for Alejandro Tabilo\n",
      "Extracting data for Joao Sousa\n",
      "Extracting data for Denis Kudla\n",
      "Extracting data for Jordan Thompson\n",
      "Extracting data for Pablo Andujar\n",
      "Extracting data for John Millman\n",
      "Extracting data for Thanasi Kokkinakis\n",
      "Extracting data for Carlos Taberner\n",
      "Extracting data for Tomas Martin Etcheverry\n",
      "Extracting data for Yoshihito Nishioka\n",
      "Extracting data for Steve Johnson\n",
      "Extracting data for Jan-Lennard Struff\n",
      "Extracting data for Jaume Munar\n",
      "Extracting data for Facundo Bagnis\n",
      "Extracting data for Roberto Carballes Baena\n",
      "Extracting data for Henri Laaksonen\n",
      "Extracting data for Mikael Ymer\n",
      "Extracting data for Peter Gojowczyk\n",
      "Extracting data for Quentin Halys\n",
      "Extracting data for Thiago Monteiro\n",
      "Extracting data for Ricardas Berankis\n",
      "Extracting data for Taro Daniel\n",
      "Extracting data for Kevin Anderson\n",
      "Extracting data for Daniel Elahi Galan\n",
      "Extracting data for Jack Draper\n",
      "Extracting data for Sam Querrey\n",
      "Extracting data for Feliciano Lopez\n",
      "Extracting data for Fernando Verdasco\n",
      "Extracting data for Radu Albot\n",
      "Extracting data for Gianluca Mager\n",
      "Extracting data for Bernabe Zapata Miralles\n",
      "Extracting data for Stefano Travaglia\n",
      "Extracting data for Yannick Hanfmann\n",
      "Extracting data for Norbert Gombos\n",
      "Extracting data for Chun-hsin Tseng\n",
      "Extracting data for Juan Pablo Varillas\n",
      "Extracting data for Stefan Kozlov\n",
      "Extracting data for Jack Sock\n",
      "Extracting data for Mats Moraing\n",
      "Extracting data for Marc-Andrea Huesler\n",
      "Extracting data for Marco Cecchinato\n",
      "Extracting data for Juan Manuel Cerundolo\n",
      "Extracting data for Aleksandar Vukic\n",
      "Extracting data for Christopher O'Connell\n",
      "Extracting data for Corentin Moutet\n",
      "Extracting data for Alexei Popyrin\n",
      "Extracting data for Pablo Cuevas\n",
      "Extracting data for Guido Pella\n",
      "Extracting data for Jurij Rodionov\n",
      "Extracting data for J.J. Wolf\n",
      "Extracting data for Nuno Borges\n",
      "Extracting data for Vasek Pospisil\n",
      "Extracting data for Ernesto Escobedo\n",
      "Extracting data for Tomas Barrios Vera\n",
      "Extracting data for Zdenek Kolar\n",
      "Extracting data for Andreas Seppi\n",
      "Extracting data for Nicolas Jarry\n",
      "Extracting data for Elias Ymer\n",
      "Extracting data for Dennis Novak\n",
      "Extracting data for Juan Ignacio Londero\n",
      "Extracting data for Liam Broady\n",
      "Extracting data for Philipp Kohlschreiber\n",
      "Extracting data for Andrej Martin\n",
      "Extracting data for Tomas Machac\n",
      "Extracting data for Mitchell Krueger\n",
      "Extracting data for Egor Gerasimov\n",
      "Extracting data for Roman Safiullin\n",
      "Extracting data for Emilio Gomez\n",
      "Extracting data for Flavio Cobolli\n",
      "Extracting data for Hugo Grenier\n",
      "Extracting data for Pedro Cachin\n",
      "Extracting data for Franco Agamenone\n",
      "Extracting data for Camilo Ugo Carabelli\n",
      "Extracting data for Gastao Elias\n",
      "Extracting data for Pavel Kotov\n",
      "Extracting data for Christopher Eubanks\n",
      "Extracting data for Manuel Guinard\n",
      "Extracting data for Nikola Milojevic\n",
      "Extracting data for Gilles Simon\n",
      "Extracting data for Damir Dzumhur\n",
      "Extracting data for Dominic Thiem\n",
      "Extracting data for Mikhail Kukushkin\n",
      "Extracting data for Aljaz Bedene\n",
      "Extracting data for Lucas Pouille\n",
      "Extracting data for Jay Clarke\n",
      "Extracting data for Gian Marco Moroni\n",
      "Extracting data for Facundo Mena\n",
      "Extracting data for Pierre-Hugues Herbert\n",
      "Extracting data for Alessandro Giannessi\n",
      "Extracting data for Vit Kopriva\n",
      "Extracting data for Max Purcell\n",
      "Extracting data for Jesper De Jong\n",
      "Extracting data for Jason Kubler\n",
      "Extracting data for Constant Lestienne\n",
      "Extracting data for Enzo Couacaud\n",
      "Extracting data for Renzo Olivo\n",
      "Extracting data for Dominic Stricker\n",
      "Extracting data for Ramkumar Ramanathan\n",
      "Extracting data for Tennys Sandgren\n",
      "Extracting data for Michael Mmoh\n",
      "Extracting data for Dmitry Popko\n",
      "Extracting data for Marco Trungelliti\n",
      "Extracting data for Juan Pablo Ficovich\n",
      "Extracting data for Altug Celikbilek\n",
      "Extracting data for Federico Gaio\n",
      "Extracting data for Bjorn Fratangelo\n",
      "Extracting data for Thomas Fabbiano\n",
      "Extracting data for Felipe Meligeni Rodrigues Alves\n",
      "Extracting data for Zsombor Piros\n",
      "Extracting data for Salvatore Caruso\n",
      "Extracting data for Nino Serdarusic\n",
      "Extracting data for Timofey Skatov\n",
      "Extracting data for Dimitar Kuzmanov\n",
      "Extracting data for Geoffrey Blancaneaux\n",
      "Extracting data for Lorenzo Giustino\n",
      "Extracting data for Filip Horansky\n",
      "Extracting data for Alex Bolt\n",
      "Extracting data for Zizou Bergs\n",
      "Extracting data for Ryan Peniston\n"
     ]
    }
   ],
   "source": [
    "pages = ['bio', 'fedex-atp-win-loss', 'titles-and-finals', 'player-stats', 'rankings-history']\n",
    "\n",
    "for player, profile_path in player_profile_paths.items():\n",
    "    print(f'Extracting data for {player}')\n",
    "    \n",
    "    for page in pages:        \n",
    "        url = f'https://www.atptour.com{profile_path}/{page}'\n",
    "        html = requests.get(url)\n",
    "        soup = BeautifulSoup(html.content, \"html.parser\")\n",
    "\n",
    "        if page == 'bio':\n",
    "            for id in ['playerBioYearInReview', 'playerBioPersonal']:\n",
    "                tag = soup.find(id=id)\n",
    "                text = parse_bio_tag(tag)\n",
    "                \n",
    "                desc = id.replace('player', '')\n",
    "                filename = output_dir / f\"{player.replace(' ', '')}_{desc}.txt\"\n",
    "                with open(filename, 'wt') as f:\n",
    "                    f.write(text)\n",
    "                    \n",
    "        elif page == 'fedex-atp-win-loss':\n",
    "            ...\n",
    "        elif page == 'titles-and-finals':\n",
    "            ...\n",
    "        elif page == 'player-stats':\n",
    "            ...\n",
    "        elif page == 'rankings-history':\n",
    "            ..."
   ]
  },
  {
   "cell_type": "code",
   "execution_count": null,
   "id": "f21f3336",
   "metadata": {},
   "outputs": [],
   "source": []
  }
 ],
 "metadata": {
  "kernelspec": {
   "display_name": "Python 3 (ipykernel)",
   "language": "python",
   "name": "python3"
  },
  "language_info": {
   "codemirror_mode": {
    "name": "ipython",
    "version": 3
   },
   "file_extension": ".py",
   "mimetype": "text/x-python",
   "name": "python",
   "nbconvert_exporter": "python",
   "pygments_lexer": "ipython3",
   "version": "3.7.5"
  }
 },
 "nbformat": 4,
 "nbformat_minor": 5
}
